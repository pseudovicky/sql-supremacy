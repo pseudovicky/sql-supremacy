{
    "metadata": {
        "kernelspec": {
            "name": "SQL",
            "display_name": "SQL",
            "language": "sql"
        },
        "language_info": {
            "name": "sql",
            "version": ""
        }
    },
    "nbformat_minor": 2,
    "nbformat": 4,
    "cells": [
        {
            "cell_type": "code",
            "source": [
                ""
            ],
            "metadata": {
                "azdata_cell_guid": "16688b30-f91d-43c6-9873-9854f2e7bd1b",
                "language": "sql"
            },
            "outputs": [],
            "execution_count": null
        }
    ]
}